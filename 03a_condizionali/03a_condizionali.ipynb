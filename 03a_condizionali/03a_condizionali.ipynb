{
 "cells": [
  {
   "cell_type": "markdown",
   "metadata": {},
   "source": [
    "# Strutture nidificate\n"
   ]
  },
  {
   "cell_type": "code",
   "execution_count": 2,
   "metadata": {},
   "outputs": [
    {
     "name": "stdout",
     "output_type": "stream",
     "text": [
      "Il prestito può essere concesso .\n"
     ]
    }
   ],
   "source": [
    "salario = int ( input (\"Inserire il salario : \"))\n",
    "anni_lavoro = int ( input (\"Inserire gli anni di lavoro :\"))\n",
    "\n",
    "# Controllo se il salario è maggiore o uguale a 30000\n",
    "if salario >= 30000:\n",
    "    # Controllo se gli anni di lavoro sono maggiore o uguale a 2\n",
    "    if anni_lavoro >=2:\n",
    "        print (\"Il prestito può essere concesso .\")\n",
    "    else :\n",
    "    # Non rispetta gli anni di lavoro\n",
    "        print (\"Anni lavoro troppo pochi . Il prestito non può essere concesso \")\n",
    "else:\n",
    "    # Non rispetta il salario\n",
    "    print (\"Salario troppo basso . Il prestito non può essere concesso \")"
   ]
  },
  {
   "cell_type": "markdown",
   "metadata": {},
   "source": [
    "# if-elif-else\n"
   ]
  },
  {
   "cell_type": "code",
   "execution_count": 5,
   "metadata": {},
   "outputs": [
    {
     "name": "stdout",
     "output_type": "stream",
     "text": [
      "voto : 4\n"
     ]
    }
   ],
   "source": [
    "punteggio = 60\n",
    "\n",
    "if punteggio >=100:\n",
    "    print (\"voto :\", 6)\n",
    "else :\n",
    "    if punteggio >= 90:\n",
    "        print (\"voto :\", 5.5)\n",
    "    else :\n",
    "        if punteggio >= 80:\n",
    "            print (\"voto :\", 5)\n",
    "        else :\n",
    "            if punteggio >= 70:\n",
    "                print (\"voto :\", 4.5)\n",
    "            else :\n",
    "                if punteggio >= 60:\n",
    "                    print (\"voto :\", 4)\n",
    "                else :\n",
    "                    if punteggio >= 50:\n",
    "                        print (\"voto :\", 3.5)\n",
    "                    else :\n",
    "                        if punteggio >= 40:\n",
    "                            print (\"voto :\", 3)\n",
    "                        else :\n",
    "                            print (\"voto :\", 2)"
   ]
  },
  {
   "cell_type": "code",
   "execution_count": 6,
   "metadata": {},
   "outputs": [
    {
     "name": "stdout",
     "output_type": "stream",
     "text": [
      "voto : 3\n"
     ]
    }
   ],
   "source": [
    "#Chiedo il punteggio\n",
    "punteggio = int ( input (\"Scrivi il punteggio : \"))\n",
    "\n",
    "# Se il punteggio è >= 100 , allora il voto è 6\n",
    "if punteggio >= 100:\n",
    "    print (\"voto :\", 6)\n",
    "# Se invece il punteggio è >= 90 , allora il voto è 5.5\n",
    "elif punteggio >= 90:\n",
    "    print (\"voto :\", 5.5)\n",
    "\n",
    "# Se invece il punteggio è >= 80 , allora il voto è 5\n",
    "elif punteggio >= 80:\n",
    "    print (\"voto :\", 5)\n",
    "\n",
    "# Se invece il punteggio è >= 70 , allora il voto è 4.5\n",
    "elif punteggio >= 70:\n",
    "    print (\"voto :\", 4.5)\n",
    "\n",
    "# Se invece il punteggio è >= 60 , allora il voto è 4\n",
    "elif punteggio >= 60:\n",
    "    print (\"voto :\", 4)\n",
    "\n",
    "# Se invece il punteggio è >= 50 , allora il voto è 3.5\n",
    "elif punteggio >= 50:\n",
    "    print (\"voto :\", 3.5)\n",
    "#Se invece il punteggio è >= 40 , allora il voto è 3\n",
    "elif punteggio >= 40:\n",
    "    print (\"voto :\", 3)\n",
    "\n",
    "# Altrimenti il voto è 2\n",
    "else :\n",
    "    print (\"voto :\", 2)"
   ]
  },
  {
   "cell_type": "markdown",
   "metadata": {},
   "source": [
    "# Operatori logici"
   ]
  },
  {
   "cell_type": "code",
   "execution_count": 7,
   "metadata": {},
   "outputs": [
    {
     "name": "stdout",
     "output_type": "stream",
     "text": [
      "Il prestito non può essere concesso \n"
     ]
    }
   ],
   "source": [
    "salario = int ( input (\"Inserire il salario : \"))\n",
    "anni_lavoro = int ( input (\"Inserire gli anni di lavoro : \"))\n",
    "\n",
    "# Controllo nello stesso if salario e anni di lavoro\n",
    "if salario >= 30000 and anni_lavoro >= 2:\n",
    "    print (\"Il prestito può essere concesso .\")\n",
    "else :\n",
    "    print (\"Il prestito non può essere concesso \")\n"
   ]
  },
  {
   "cell_type": "code",
   "execution_count": null,
   "metadata": {},
   "outputs": [],
   "source": []
  }
 ],
 "metadata": {
  "kernelspec": {
   "display_name": "work",
   "language": "python",
   "name": "python3"
  },
  "language_info": {
   "codemirror_mode": {
    "name": "ipython",
    "version": 3
   },
   "file_extension": ".py",
   "mimetype": "text/x-python",
   "name": "python",
   "nbconvert_exporter": "python",
   "pygments_lexer": "ipython3",
   "version": "3.10.13"
  }
 },
 "nbformat": 4,
 "nbformat_minor": 2
}
