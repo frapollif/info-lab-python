{
 "cells": [
  {
   "cell_type": "markdown",
   "metadata": {},
   "source": [
    "# Vendite software \n",
    "\n",
    "Un'azienda di software vende un pacchetto al prezzo di 99 CHF. Possono essere fatti sconti quantità secondo questa tabella:\n",
    "\n",
    "| Quantità | Sconto |\n",
    "| ---- | ---|\n",
    "| 10-19 | 10% |\n",
    "| 20-49 | 20% |\n",
    "|50-99 | 30% |\n",
    "|100 o più | 40% |\n",
    "\n",
    "\n",
    "Scrivere un programma che chieda all'utente di immettere il numero di pacchetti acquistati. Il programma dovrebbe quindi visualizzare  lo sconto (se c'è) e l'ammontare totale del pagamento dopo aver applicato lo sconto.\n",
    "\n",
    "Una possibile soluzione è la seguente:"
   ]
  },
  {
   "cell_type": "code",
   "execution_count": 1,
   "metadata": {},
   "outputs": [
    {
     "name": "stdout",
     "output_type": "stream",
     "text": [
      "Lei ha acquistato 12 pacchetti.\n",
      "Lei avrà uno sconto del 10%\n",
      "Il prezzo finale è di 1069.2\n"
     ]
    }
   ],
   "source": [
    "quantità_acquistata = int(input(\"Quanti pacchetti ha acquistato?\"))\n",
    "print(f\"Lei ha acquistato {quantità_acquistata} pacchetti.\")\n",
    "\n",
    "costo_pacchetto = 99\n",
    "costo_intero: float=costo_pacchetto*quantità_acquistata\n",
    "costo_10: float=costo_pacchetto*quantità_acquistata*90/100\n",
    "costo_20: float=costo_pacchetto*quantità_acquistata*80/100\n",
    "costo_30: float=costo_pacchetto*quantità_acquistata*70/100\n",
    "costo_40: float=costo_pacchetto*quantità_acquistata*60/100\n",
    "\n",
    "if quantità_acquistata < 10:\n",
    "    print(\"Lei non avrà uno sconto perchè ha acquistato troppi pochi pacchetti.\")\n",
    "    print(f\"Il costo totale è di {costo_intero}\")\n",
    "\n",
    "elif quantità_acquistata >= 10 and quantità_acquistata <= 19:\n",
    "    print(\"Lei avrà uno sconto del 10%\")\n",
    "    print(f\"Il prezzo finale è di {costo_10}\")\n",
    "\n",
    "elif quantità_acquistata >= 20 and quantità_acquistata <= 49:\n",
    "    print(\"Lei avrà uno sconto del 20%\")\n",
    "    print(f\"Il prezzo finale è di {costo_20}\")\n",
    "\n",
    "elif quantità_acquistata >= 50 and quantità_acquistata <= 99:\n",
    "    print(\"Lei avrà uno sconto del 30%\")\n",
    "    print(f\"Il prezzo finale è di {costo_30}\")\n",
    "\n",
    "elif quantità_acquistata >= 100:\n",
    "    print(\"Lei avrà uno sconto del 40%\")\n",
    "    print(f\"Il prezzo finale è di {costo_40}\")"
   ]
  },
  {
   "cell_type": "markdown",
   "metadata": {},
   "source": [
    "Ma notiamo che dobbiamo eseguire il calcolo dello sconto e del prezzo finale per ogni intervallo di sconto. \n",
    "Questo rende il codice molto lungo e ripetitivo e difficile da mantenere in caso di modifiche."
   ]
  },
  {
   "cell_type": "markdown",
   "metadata": {},
   "source": [
    "```python\n",
    "costo_pacchetto = 99\n",
    "costo_intero: float=costo_pacchetto*quantità_acquistata\n",
    "costo_10: float=costo_pacchetto*quantità_acquistata*90/100\n",
    "costo_20: float=costo_pacchetto*quantità_acquistata*80/100\n",
    "costo_30: float=costo_pacchetto*quantità_acquistata*70/100\n",
    "costo_40: float=costo_pacchetto*quantità_acquistata*60/100\n",
    "```"
   ]
  },
  {
   "cell_type": "markdown",
   "metadata": {},
   "source": [
    "Idealmente potremmo scomporre il problema in due parti:\n",
    "1. Calcolare lo sconto in base alla quantità acquistata\n",
    "2. Calcolare il prezzo finale\n",
    "\n",
    "Per calcolare lo sconto possiamo utilizzare una funzione che prende in input la quantità acquistata e restituisce lo sconto.\n",
    "\n"
   ]
  },
  {
   "cell_type": "code",
   "execution_count": 5,
   "metadata": {},
   "outputs": [],
   "source": [
    "def sconto(quantità_acquistata):\n",
    "    if quantità_acquistata < 10:\n",
    "        return 0\n",
    "    elif quantità_acquistata < 20:\n",
    "        return 10\n",
    "    elif quantità_acquistata < 50:\n",
    "        return 20\n",
    "    elif quantità_acquistata < 100:\n",
    "        return 30\n",
    "    elif quantità_acquistata >= 100:\n",
    "        return 40"
   ]
  },
  {
   "cell_type": "markdown",
   "metadata": {},
   "source": [
    "Testiamo la funzione con i seguenti valori:\n",
    "- 5: nessuno sconto\n",
    "- 15: 10%\n",
    "- 25: 20%"
   ]
  },
  {
   "cell_type": "code",
   "execution_count": 17,
   "metadata": {},
   "outputs": [
    {
     "data": {
      "text/plain": [
       "0"
      ]
     },
     "execution_count": 17,
     "metadata": {},
     "output_type": "execute_result"
    }
   ],
   "source": [
    "sconto(5)"
   ]
  },
  {
   "cell_type": "markdown",
   "metadata": {},
   "source": [
    "Dopo aver calcolato lo sconto possiamo calcolare il prezzo finale utilizzando una funzione che prende in input la quantità acquistata e lo sconto e restituisce il prezzo finale."
   ]
  },
  {
   "cell_type": "code",
   "execution_count": 16,
   "metadata": {},
   "outputs": [],
   "source": [
    "def prezzo_finale(quantità_acquistata, prezzo_pacchetto=99):\n",
    "    return costo_pacchetto*quantità_acquistata*(100-sconto(quantità_acquistata))/100"
   ]
  },
  {
   "cell_type": "markdown",
   "metadata": {},
   "source": [
    "Testiamo la funzione con i seguenti valori:\n",
    "- 5, 0: 495\n",
    "- 15, 10: 1069.2\n",
    "- 25, 20: 1980"
   ]
  },
  {
   "cell_type": "code",
   "execution_count": 21,
   "metadata": {},
   "outputs": [
    {
     "data": {
      "text/plain": [
       "1980.0"
      ]
     },
     "execution_count": 21,
     "metadata": {},
     "output_type": "execute_result"
    }
   ],
   "source": [
    "prezzo_finale(25)"
   ]
  },
  {
   "cell_type": "markdown",
   "metadata": {},
   "source": [
    "A questo punto il nostro codice sarà molto più leggibile e manutenibile.\n"
   ]
  },
  {
   "cell_type": "code",
   "execution_count": 8,
   "metadata": {},
   "outputs": [
    {
     "name": "stdout",
     "output_type": "stream",
     "text": [
      "Lei ha acquistato 12 pacchetti.\n",
      "Lei avrà uno sconto del 10%\n",
      "Il prezzo finale è di 1069.2\n"
     ]
    }
   ],
   "source": [
    "quantità_acquistata = int(input(\"Quanti pacchetti ha acquistato?\"))\n",
    "print(f\"Lei ha acquistato {quantità_acquistata} pacchetti.\")\n",
    "print(f\"Lei avrà uno sconto del {sconto(quantità_acquistata)}%\")\n",
    "print(f\"Il prezzo finale è di {prezzo_finale(quantità_acquistata)}\")\n"
   ]
  },
  {
   "cell_type": "markdown",
   "metadata": {},
   "source": [
    "# Definire una funzione\n",
    "\n",
    "Per creare una funzione occorre scriverne la definizione. Ecco il formato\n",
    "generale della definizione di una funzione in Python:\n",
    "    \n",
    "```python\n",
    "    def nome_funzione(parametri):\n",
    "        istruzioni 1\n",
    "        istruzioni 2\n",
    "        ...\n",
    "        istruzioni n\n",
    "        return valore\n",
    "```\n"
   ]
  },
  {
   "cell_type": "markdown",
   "metadata": {},
   "source": [
    "La prima riga si chiama intestazione (o header) della funzione e segna\n",
    "l’inizio della definizione della funzione. \n",
    "\n",
    "L’intestazione della funzione inizia on la parola chiave `def`, seguita dal nome della funzione, seguito da una\n",
    "coppia di parentesi, seguita da un segno di due punti.\n",
    "\n",
    "All’inizio della riga successiva si trova una serie di istruzioni detta blocco: è semplicemente un insieme di istruzioni che costituiscono un gruppo e\n",
    "vengono eseguite ogni volta che si esegue la funzione. \n",
    "\n",
    "Si noti, nel formato\n",
    "generale, che tutte le istruzioni del blocco sono rientrate; il rientro è obbligatorio, perché l’interprete Python lo utilizza per capire dove ha inizio e dove\n",
    "termina il blocco."
   ]
  },
  {
   "cell_type": "markdown",
   "metadata": {},
   "source": [
    "La definizione di una funzione specifica che cosa fa una funzione, ma non\n",
    "la esegue. Per eseguire una funzione, è necessario chiamarla. Ecco come si\n",
    "chiama la funzione messaggio:\n"
   ]
  },
  {
   "cell_type": "code",
   "execution_count": 9,
   "metadata": {},
   "outputs": [
    {
     "name": "stdout",
     "output_type": "stream",
     "text": [
      "Il mio nome è Artù\n",
      "Re dei Britanni\n"
     ]
    }
   ],
   "source": [
    "def messaggio () :\n",
    "    print (\"Il mio nome è Artù\")\n",
    "    print(\"Re dei Britanni\")\n",
    "    \n",
    "    \n",
    "messaggio()\n"
   ]
  },
  {
   "cell_type": "markdown",
   "metadata": {},
   "source": [
    "A volte può tornare utile non solamente chiamare una funzione, ma passarle uno o più dati. \n",
    "I dati inviati a una funzione sono chiamati argomenti;\n",
    "la funzione può adoperare i propri argomenti per svolgere calcoli o altre\n",
    "operazioni.\n",
    "\n",
    "Se si vuole passare degli argomenti a una funzione, bisogna fornire alla\n",
    "funzione uno o più parametri. \n",
    "Ecco un esempio di una funzione dotata di un\n",
    "parametro:\n"
   ]
  },
  {
   "cell_type": "code",
   "execution_count": 11,
   "metadata": {},
   "outputs": [
    {
     "name": "stdout",
     "output_type": "stream",
     "text": [
      "16\n"
     ]
    }
   ],
   "source": [
    "def raddoppia ( numero ):\n",
    "    risultato = numero * 2\n",
    "    print ( risultato )\n",
    "\n",
    "# Chiamo la funzione con un parametro\n",
    "raddoppia (8) \n"
   ]
  },
  {
   "cell_type": "markdown",
   "metadata": {},
   "source": [
    "Spesso torna utile scrivere funzioni che possano accettare più argomenti alla\n",
    "volta. Nell’esempio seguente vengono accettati due argomenti:"
   ]
  },
  {
   "cell_type": "code",
   "execution_count": 12,
   "metadata": {},
   "outputs": [
    {
     "name": "stdout",
     "output_type": "stream",
     "text": [
      "55\n"
     ]
    }
   ],
   "source": [
    "def somma ( num1 , num2 ):\n",
    "    risultato = num1 + num2\n",
    "    print ( risultato )\n",
    "\n",
    "# Chiamo la funzione\n",
    "somma (20 , 35)\n"
   ]
  },
  {
   "cell_type": "markdown",
   "metadata": {},
   "source": [
    "n questo esempio, è stata definita una funzione chiamata somma che prende due argomenti e non restituisce alcun valore. \n",
    "La funzione si limita a stampare a video il risultato.\n",
    "Le funzioni che restituiscono un valore, invece, svolgono un’attività e\n",
    "restituiscono un valore numerico o dati come risultato. \n",
    "\n",
    "Questo risultato può\n",
    "essere assegnato a una variabile o utilizzato direttamente. Un esempio di\n",
    "funzione che restituisce un valore è la seguente:"
   ]
  },
  {
   "cell_type": "code",
   "execution_count": 14,
   "metadata": {},
   "outputs": [
    {
     "name": "stdout",
     "output_type": "stream",
     "text": [
      "55\n"
     ]
    }
   ],
   "source": [
    "def somma ( num1 , num2 ):\n",
    "    risultato = num1 + num2\n",
    "    return  risultato \n",
    "\n",
    "# Chiamo la funzione\n",
    "a=somma (20 , 35)\n",
    "print(a)"
   ]
  },
  {
   "cell_type": "markdown",
   "metadata": {},
   "source": [
    "Python non chiede di esplicitare il tipo di dato dei parametri delle funzioni e nemmeno il valore di ritorno. Le funzioni sono però spesso create per\n",
    "essere riutilizzate anche da utenti diversi. In questo contesto è utile indicare per ogni parametro il tipo di dato che deve essere fornito e il valore di\n",
    "ritorno della funzione"
   ]
  },
  {
   "cell_type": "code",
   "execution_count": 15,
   "metadata": {},
   "outputs": [],
   "source": [
    "\n",
    "def somma ( num1 :int , num2 : int ) -> int :\n",
    "    return num1 + num2 \n"
   ]
  },
  {
   "cell_type": "code",
   "execution_count": null,
   "metadata": {},
   "outputs": [],
   "source": []
  }
 ],
 "metadata": {
  "kernelspec": {
   "display_name": "work",
   "language": "python",
   "name": "python3"
  },
  "language_info": {
   "codemirror_mode": {
    "name": "ipython",
    "version": 3
   },
   "file_extension": ".py",
   "mimetype": "text/x-python",
   "name": "python",
   "nbconvert_exporter": "python",
   "pygments_lexer": "ipython3",
   "version": "3.10.13"
  }
 },
 "nbformat": 4,
 "nbformat_minor": 2
}
