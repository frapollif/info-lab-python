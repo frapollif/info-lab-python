{
 "cells": [
  {
   "cell_type": "markdown",
   "metadata": {},
   "source": [
    "# Area triangolo\n",
    "\n",
    "Scrivere una funzione area_triangolo che accetti come argomenti la base e l’altezza di un\n",
    "triangolo e restituisce l’area del triangolo. Utilizzare la funzione in un programma che stampi\n",
    "il seguente messaggio: “L’area del triangolo è XX”"
   ]
  },
  {
   "cell_type": "code",
   "execution_count": 2,
   "metadata": {},
   "outputs": [
    {
     "name": "stdout",
     "output_type": "stream",
     "text": [
      "L'area del triangolo di base 3 e altezza 4 è di 6.0\n"
     ]
    }
   ],
   "source": [
    "def area_triangolo(base:float, altezza:float)->float:\n",
    "    return (base*altezza)/2\n",
    "\n",
    "\n",
    "#Test\n",
    "base_test=3\n",
    "altezza_test=4\n",
    "print(f\"L'area del triangolo di base {base_test} e altezza {altezza_test} è di {area_triangolo(base_test, altezza_test)}\") "
   ]
  },
  {
   "cell_type": "markdown",
   "metadata": {},
   "source": [
    "# Distanza percorsa in caduta \n",
    "Quando un oggetto cade a causa della gravità, si può\n",
    "utilizzare questa formula per determinare la distanza percorsa dall’oggetto in un periodo di\n",
    "tempo specifico: $d =\\frac{1}{2}gt^2$\n",
    "\n",
    "Le variabili contenute in questa formula sono le seguenti: $d$ è la distanza in metri, $g$ è l'accelerazione di $9.8$ $\\frac{m}{s^2}$\n",
    "e $t$ è il tempo, in secondi, in cui l’oggetto è caduto.\n",
    "Scrivere una funzione denominata `falling_distance` che accetti come argomento il tempo\n",
    "di caduta dell’oggetto (espresso in secondi). La funzione dovrebbe restituire la distanza,\n",
    "espressa in metri, percorsa dall’oggetto durante l’intervallo temporale specificato."
   ]
  },
  {
   "cell_type": "code",
   "execution_count": 5,
   "metadata": {},
   "outputs": [
    {
     "name": "stdout",
     "output_type": "stream",
     "text": [
      "La distanza di caduta in 10 secondi è di 490.5 metri\n"
     ]
    }
   ],
   "source": [
    "def falling_distance(tempo:float)->float:\n",
    "    return 0.5*9.81*tempo**2\n",
    "\n",
    "#Test\n",
    "tempo_test=10\n",
    "print(f\"La distanza di caduta in {tempo_test} secondi è di {falling_distance(tempo_test)} metri\")"
   ]
  },
  {
   "cell_type": "markdown",
   "metadata": {},
   "source": [
    "# Massimo fra due valori\n",
    "Scrivere una funzione di nome `max`che accetti come argomenti due valori interi e restituisca\n",
    "il valore più grande dei due. \n",
    "\n",
    "Per esempio, passando alla funzione i due argomenti $7$ e\n",
    "$12$ la funzione dovrebbe restituire $12$. \n",
    "\n",
    "Utilizzare la funzione in un programma che chieda\n",
    "all’utente di inserire due valori interi. Il programma dovrebbe quindi visualizzare il valore\n",
    "più grande dei due.\n"
   ]
  },
  {
   "cell_type": "code",
   "execution_count": 6,
   "metadata": {},
   "outputs": [
    {
     "name": "stdout",
     "output_type": "stream",
     "text": [
      "Il numero maggiore tra 5 e 10 è 10\n"
     ]
    }
   ],
   "source": [
    "def max(num1:int, num2:int)->int:\n",
    "    if num1>num2:\n",
    "        return num1\n",
    "    else:\n",
    "        return num2\n",
    "    \n",
    "#Test\n",
    "num1_test=5\n",
    "num2_test=10\n",
    "print(f\"Il numero maggiore tra {num1_test} e {num2_test} è {max(num1_test, num2_test)}\")"
   ]
  },
  {
   "cell_type": "markdown",
   "metadata": {},
   "source": [
    "# Ore minuti e secondi\n",
    "\n",
    "Scrivere una funzione di nome convert che accetti come argomento un numero di secondi\n",
    "e stampi il numero di ore, minuti e secondi corrispettivi."
   ]
  },
  {
   "cell_type": "code",
   "execution_count": 15,
   "metadata": {},
   "outputs": [
    {
     "name": "stdout",
     "output_type": "stream",
     "text": [
      "ore: 1, minuti: 1, secondi: 1\n"
     ]
    }
   ],
   "source": [
    "def convert(tempo:float)->str:\n",
    "    ore_intere=tempo//3600 #divisione intera senza resto\n",
    "    ore_resto=tempo%3600 #resto della divisione delle ore\n",
    "    minuti_interi=ore_resto//60 #divisione intera senza resto\n",
    "    minuti_resto=ore_resto%60 #resto della divisione dei minuti\n",
    "    secondi=minuti_resto%60 #resto delle ore e dei minuti\n",
    "    print(f\"ore: {ore_intere}, minuti: {minuti_interi}, secondi: {secondi}\")\n",
    "    \n",
    "#Test\n",
    "tempo_test=3661\n",
    "convert(tempo_test)"
   ]
  },
  {
   "cell_type": "markdown",
   "metadata": {},
   "source": [
    "# Quiz matematico\n",
    "\n",
    "Scrivere un programma che ponga semplici quiz matematici di moltiplicazione, addizione\n",
    "o sottrazione. \n",
    "All’utente viene chiesto di inserire due numeri e il tipo di operazione matematica. \n",
    "\n",
    "Successivamente chiede il risultato dell’operazione all’utente e gli conferma se la\n",
    "risposta data è corretta o meno. \n",
    "Le tre operazioni richieste vanno inserite in tre funzioni:\n",
    "moltiplicazione, addizione e sottrazione.\n",
    "\n",
    "Ecco un esempio di simulazione del programma:\n",
    "\n",
    "`Inserisci il primo numero intero: 1`\n",
    "\n",
    "`Inserisci il secondo numero intero: 2`\n",
    "\n",
    "`Inserisci l’operazione da eseguire: digita 1 per moltiplicazione, 2 per addizione,\n",
    "3 per sottrazione: 2`\n",
    "\n",
    "`Quanto fa 1 + 2 ?`\n",
    "\n",
    "`Inserisci il risultato: 3`\n",
    "\n",
    "`Risposta corretta`"
   ]
  },
  {
   "cell_type": "code",
   "execution_count": 29,
   "metadata": {},
   "outputs": [
    {
     "name": "stdout",
     "output_type": "stream",
     "text": [
      " Operazione non valida \n"
     ]
    }
   ],
   "source": [
    "def addizione ( num1 :int , num2 : int ) ->int :\n",
    "    return num1 + num2\n",
    "\n",
    "def sottrazione ( num1 :int , num2 : int ) ->int :\n",
    "    return num1 - num2\n",
    "\n",
    "def moltiplicazione ( num1 :int , num2 : int ) ->int :\n",
    "    return num1 * num2\n",
    "\n",
    "def main () :\n",
    "    num1 = int ( input (\" Inserisci il primo numero intero : \"))\n",
    "    num2 = int ( input (\" Inserisci il secondo numero intero : \"))\n",
    "    operazione = int ( input (\" Inserisci l’operazione da eseguire : digita 1 per moltiplicazione , 2 per addizione , 3 per sottrazione : \"))\n",
    "    if operazione == 1:\n",
    "        risultato = moltiplicazione ( num1 , num2 ) \n",
    "        operatore = \"*\"\n",
    "    elif operazione == 2:   \n",
    "        risultato = addizione ( num1 , num2 )   \n",
    "        operatore = \"+\" \n",
    "    elif operazione == 3:\n",
    "        risultato = sottrazione ( num1 , num2 )\n",
    "        operatore = \"-\"\n",
    "    else :\n",
    "        print (\" Operazione non valida \")\n",
    "        return \n",
    "    \n",
    "    print (\"Quanto fa\", num1 , operatore , num2 , \"?\")\n",
    "\n",
    "    risultato_utilizzatore = int ( input (\" Inserisci il risultato : \"))\n",
    "    if risultato == risultato_utilizzatore:\n",
    "        print (f\"La tua risposta {risultato_utilizzatore} è corretta\")\n",
    "    else :\n",
    "        print(f\"La tua risposta {risultato_utilizzatore} è errata. La risposta corretta è {risultato}\")\n",
    "\n",
    "\n",
    "main()"
   ]
  }
 ],
 "metadata": {
  "kernelspec": {
   "display_name": "work",
   "language": "python",
   "name": "python3"
  },
  "language_info": {
   "codemirror_mode": {
    "name": "ipython",
    "version": 3
   },
   "file_extension": ".py",
   "mimetype": "text/x-python",
   "name": "python",
   "nbconvert_exporter": "python",
   "pygments_lexer": "ipython3",
   "version": "3.10.13"
  }
 },
 "nbformat": 4,
 "nbformat_minor": 2
}
