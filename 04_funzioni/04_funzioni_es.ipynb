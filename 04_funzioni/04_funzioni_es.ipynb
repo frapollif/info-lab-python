{
 "cells": [
  {
   "cell_type": "markdown",
   "metadata": {},
   "source": [
    "# Area triangolo\n",
    "\n",
    "Scrivere una funzione area_triangolo che accetti come argomenti la base e l’altezza di un\n",
    "triangolo e restituisce l’area del triangolo. Utilizzare la funzione in un programma stampi\n",
    "il seguente messaggio: “L’area del triangolo è XX”"
   ]
  },
  {
   "cell_type": "code",
   "execution_count": null,
   "metadata": {},
   "outputs": [],
   "source": []
  },
  {
   "cell_type": "markdown",
   "metadata": {},
   "source": [
    "# Distanza percorsa in caduta \n",
    "Quando un oggetto cade a causa della gravità, si può\n",
    "utilizzare questa formula per determinare la distanza percorsa dall’oggetto in un periodo di\n",
    "tempo specifico: $d =\\frac{1}{2}gt^2$\n",
    "\n",
    "Le variabili contenute in questa formula sono le seguenti: $d$ è la distanza in metri, $g$ è l'accelerazione di $9.8$ $\\frac{m}{s^2}$\n",
    "e $t$ è il tempo, in secondi, in cui l’oggetto è caduto.\n",
    "Scrivere una funzione denominata `falling_distance` che accetti come argomento il tempo\n",
    "di caduta dell’oggetto (espresso in secondi). La funzione dovrebbe restituire la distanza,\n",
    "espressa in metri, percorsa dall’oggetto durante l’intervallo temporale specificato."
   ]
  },
  {
   "cell_type": "code",
   "execution_count": null,
   "metadata": {},
   "outputs": [],
   "source": []
  },
  {
   "cell_type": "markdown",
   "metadata": {},
   "source": [
    "# Massimo fra due valori\n",
    "Scrivere una funzione di nome `max`che accetti come argomenti due valori interi e restituisca\n",
    "il valore più grande dei due. \n",
    "\n",
    "Per esempio, passando alla funzione i due argomenti $7$ e\n",
    "$12$ la funzione dovrebbe restituire $12$. \n",
    "\n",
    "Utilizzare la funzione in un programma che chieda\n",
    "all’utente di inserire due valori interi. Il programma dovrebbe quindi visualizzare il valore\n",
    "più grande dei due.\n"
   ]
  },
  {
   "cell_type": "code",
   "execution_count": null,
   "metadata": {},
   "outputs": [],
   "source": []
  },
  {
   "cell_type": "markdown",
   "metadata": {},
   "source": [
    "# Ore minuti e secondi\n",
    "\n",
    "Scrivere una funzione di nome convert che accetti come argomento un numero di secondi\n",
    "e stampi il numero di ore, minuti e secondi corrispettivi."
   ]
  },
  {
   "cell_type": "markdown",
   "metadata": {},
   "source": []
  },
  {
   "cell_type": "markdown",
   "metadata": {},
   "source": [
    "# Quiz matematico\n",
    "\n",
    "Scrivere un programma che ponga semplici quiz matematici di moltiplicazione, addizione\n",
    "o sottrazione. \n",
    "All’utente viene chiesto di inserire due numeri e il tipo di operazione matematica. \n",
    "\n",
    "Successivamente chiede il risultato dell’operazione all’utente e gli conferma se la\n",
    "risposta data è corretta o meno. \n",
    "Le tre operazioni richieste vanno inserite in tre funzioni:\n",
    "moltiplicazione, addizione e sottrazione.\n",
    "\n",
    "Ecco un esempio di simulazione del programma:\n",
    "\n",
    "`Inserisci il primo numero intero: 1`\n",
    "\n",
    "`Inserisci il secondo numero intero: 2`\n",
    "\n",
    "`Inserisci l’operazione da eseguire: digita 1 per moltiplicazione, 2 per addizione,\n",
    "3 per sottrazione: 2`\n",
    "\n",
    "`Quanto fa 1 + 2 ?`\n",
    "\n",
    "`Inserisci il risultato: 3`\n",
    "\n",
    "`Risposta corretta`"
   ]
  },
  {
   "cell_type": "code",
   "execution_count": null,
   "metadata": {},
   "outputs": [],
   "source": []
  }
 ],
 "metadata": {
  "language_info": {
   "name": "python"
  }
 },
 "nbformat": 4,
 "nbformat_minor": 2
}
