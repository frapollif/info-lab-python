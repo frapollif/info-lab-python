{
 "cells": [
  {
   "cell_type": "markdown",
   "metadata": {},
   "source": [
    "<a id='list'></a>\n",
    "## Liste\n",
    "Ogni linguaggio di programmazione ci da la possibilità di creare sequenze di dati, Python lo fa con tre tipi, le liste e le tuple e i set\n",
    "<br>\n",
    "Possiamo creare una lista di dati semplicemente racchiudendoli tra parentesti quadre e separandoli con una virgola"
   ]
  },
  {
   "cell_type": "code",
   "execution_count": 1,
   "metadata": {},
   "outputs": [
    {
     "name": "stdout",
     "output_type": "stream",
     "text": [
      "[85.2, 80.3, 76.5, 72.7, 69.8, 68.0]\n",
      "<class 'list'>\n"
     ]
    }
   ],
   "source": [
    "weights = [85.2, 80.3, 76.5 ,72.7, 69.8, 68.0,]\n",
    "print(weights)\n",
    "print(type(weights))"
   ]
  },
  {
   "cell_type": "markdown",
   "metadata": {},
   "source": [
    "Possiamo conoscere la lunghezza di una lista utilizzando la funzione len.\n"
   ]
  },
  {
   "cell_type": "code",
   "execution_count": 3,
   "metadata": {},
   "outputs": [
    {
     "data": {
      "text/plain": [
       "6"
      ]
     },
     "execution_count": 3,
     "metadata": {},
     "output_type": "execute_result"
    }
   ],
   "source": [
    "len(weights)"
   ]
  },
  {
   "cell_type": "markdown",
   "metadata": {},
   "source": [
    "Per accedere ad un elemento della lista dobbiamo inserire il suo **indice** tra parentesi quadre, questa opeazione è chiamata *indexing*.\n",
    "<br>\n",
    "**NOTA BENISSIMO** In Python e in quasi tutti i linguaggi di programmazione gli indici partono da 0."
   ]
  },
  {
   "cell_type": "code",
   "execution_count": 5,
   "metadata": {},
   "outputs": [
    {
     "name": "stdout",
     "output_type": "stream",
     "text": [
      "85.2\n",
      "80.3\n"
     ]
    }
   ],
   "source": [
    "# stampiamo il primo elemento della lista\n",
    "print(weights[0])\n",
    "\n",
    "#stampiamo il secondo elemento della lista\n",
    "print(weights[1])"
   ]
  },
  {
   "cell_type": "markdown",
   "metadata": {},
   "source": [
    "L'utilizzo del - davanti all'indice ci permette di accedere alla lista dall'ultimo elemento verso il primo, in questo caso l'indice parte da -1 e non da zero, quindi con -1 accederemo all'ultimo elemento della lista."
   ]
  },
  {
   "cell_type": "code",
   "execution_count": 6,
   "metadata": {},
   "outputs": [
    {
     "name": "stdout",
     "output_type": "stream",
     "text": [
      "68.0\n",
      "72.7\n"
     ]
    }
   ],
   "source": [
    "# stampiamo l'ultimo elemento della lista\n",
    "print(weights[-1])\n",
    "\n",
    "# stampiamo il terzultimo elemento della lista\n",
    "print(weights[-3])"
   ]
  },
  {
   "cell_type": "markdown",
   "metadata": {},
   "source": [
    "### Slicing\n",
    "Possiamo estrarre solo una parte della lista inserendo gli indici di inizio (incluso) e fine (escluso) separati da (:)"
   ]
  },
  {
   "cell_type": "code",
   "execution_count": 7,
   "metadata": {},
   "outputs": [
    {
     "name": "stdout",
     "output_type": "stream",
     "text": [
      "[85.2, 80.3, 76.5]\n",
      "[72.7, 69.8]\n",
      "[69.8, 68.0]\n",
      "[85.2, 80.3, 76.5, 72.7]\n"
     ]
    }
   ],
   "source": [
    "# primi 3 elementi della lista\n",
    "print(weights[:3])\n",
    "\n",
    "# quarto e quinto elemento \n",
    "print(weights[3:5])\n",
    "\n",
    "# ultimi due elementi\n",
    "print(weights[-2:])\n",
    "\n",
    "# fino ali ultimi 2 elementi\n",
    "print(weights[:-2])"
   ]
  },
  {
   "cell_type": "markdown",
   "metadata": {},
   "source": [
    "Possiamo anche utilizzare un terzo valore, che indicherà il verso della selezione, valore 1: da sinistra a destra (valore di default) valore -1 da destra a sinistra (per ribaltare la lista)."
   ]
  },
  {
   "cell_type": "code",
   "execution_count": 8,
   "metadata": {},
   "outputs": [
    {
     "data": {
      "text/plain": [
       "[68.0, 69.8, 72.7, 76.5, 80.3, 85.2]"
      ]
     },
     "execution_count": 8,
     "metadata": {},
     "output_type": "execute_result"
    }
   ],
   "source": [
    "# dall'ultimo al primo\n",
    "weights[::-1]"
   ]
  },
  {
   "cell_type": "markdown",
   "metadata": {},
   "source": [
    "### Verifica\n",
    "Possiamo verificare se un elemento è contenuto nella lista con lo statement *in*, questo ritorna True se l'elemento è contenuto nella lista, altrimenti ritorna False (*in* è molto utile utilizzato per creare istruzioni condizionali, di cui parleremo più sotto)."
   ]
  },
  {
   "cell_type": "code",
   "execution_count": 9,
   "metadata": {},
   "outputs": [
    {
     "name": "stdout",
     "output_type": "stream",
     "text": [
      "True\n"
     ]
    }
   ],
   "source": [
    "print(72.7 in weights)"
   ]
  },
  {
   "cell_type": "code",
   "execution_count": 10,
   "metadata": {},
   "outputs": [
    {
     "name": "stdout",
     "output_type": "stream",
     "text": [
      "False\n"
     ]
    }
   ],
   "source": [
    "people = [\"Giuseppe\", \"Francesco\", \"Antonio\"]\n",
    "print(\"Sigismundo\" in people)"
   ]
  },
  {
   "cell_type": "markdown",
   "metadata": {},
   "source": [
    "### Modifica\n",
    "Possiamo modificare il valore di un elemento della lista semplicemente accedendo ad esso e eseguendo un'assegnazione."
   ]
  },
  {
   "cell_type": "code",
   "execution_count": 1,
   "metadata": {},
   "outputs": [
    {
     "name": "stdout",
     "output_type": "stream",
     "text": [
      "Vecchio peso di partenza: 85.2\n",
      "Nuovo peso di partenza: 84.2\n"
     ]
    }
   ],
   "source": [
    "weights = [85.2, 80.3, 76.5 ,72.7, 69.8, 68.0]\n",
    "\n",
    "print(f\"Vecchio peso di partenza: {weights[0]}\")\n",
    "\n",
    "# sostituiamo il valore alla posizione 0 con un 84.2\n",
    "weights[0]=84.2\n",
    "\n",
    "#stampiamo il primo elemento della lista\n",
    "print(f\"Nuovo peso di partenza: {weights[0]}\")"
   ]
  },
  {
   "cell_type": "markdown",
   "metadata": {},
   "source": [
    "Per modificare il contenuto di una lista possiamo sfruttare i seguenti metodi:\n",
    "* **append(e)** aggiunge un elemento e in fondo alla lista\n",
    "* **insert(i,e)** aggiunge l'elemento e all'indice i della lista\n",
    "* **remove(e)** rimuove l'elemento e dalla lista\n",
    "* **pop(i)** rimuove l'elemento all'indice i\n",
    "\n"
   ]
  },
  {
   "cell_type": "code",
   "execution_count": 12,
   "metadata": {},
   "outputs": [
    {
     "name": "stdout",
     "output_type": "stream",
     "text": [
      "['topo', 'gatto', 'cane']\n",
      "['topo', 'cane']\n",
      "['topo', 'essere superiore', 'cane']\n",
      "['topo', \"dominatore della terra, dell'universo e di tutto il creato\", 'cane']\n"
     ]
    }
   ],
   "source": [
    "# creiamo una lista contenente solo due elementi\n",
    "animals = [\"topo\", \"gatto\"]\n",
    "\n",
    "# aggiungiamo la parola \"cane\" alla lista\n",
    "animals.append(\"cane\")\n",
    "print(animals)\n",
    "\n",
    "# rimuoviamo la parola \"gatto\" dalla lista\n",
    "animals.remove(\"gatto\")\n",
    "print(animals)\n",
    "\n",
    "# aggiungiamo un sinonimo di gatto alla posizione 1\n",
    "animals.insert(1,\"essere superiore\")\n",
    "print(animals)\n",
    "\n",
    "# rimuoviamo l'elemento alla posizione 1\n",
    "animals.pop(1)\n",
    "\n",
    "# aggiungiamo un sinonimo più realistico di gatto alla posizione 1\n",
    "animals.insert(1,\"dominatore della terra, dell'universo e di tutto il creato\")\n",
    "print(animals)"
   ]
  },
  {
   "cell_type": "markdown",
   "metadata": {},
   "source": [
    "## Range\n",
    "Una funzione molto utili per creare delle liste di numeri è la funzione `range`"
   ]
  },
  {
   "cell_type": "code",
   "execution_count": 13,
   "metadata": {},
   "outputs": [
    {
     "name": "stdout",
     "output_type": "stream",
     "text": [
      "Help on class range in module builtins:\n",
      "\n",
      "class range(object)\n",
      " |  range(stop) -> range object\n",
      " |  range(start, stop[, step]) -> range object\n",
      " |  \n",
      " |  Return an object that produces a sequence of integers from start (inclusive)\n",
      " |  to stop (exclusive) by step.  range(i, j) produces i, i+1, i+2, ..., j-1.\n",
      " |  start defaults to 0, and stop is omitted!  range(4) produces 0, 1, 2, 3.\n",
      " |  These are exactly the valid indices for a list of 4 elements.\n",
      " |  When step is given, it specifies the increment (or decrement).\n",
      " |  \n",
      " |  Methods defined here:\n",
      " |  \n",
      " |  __bool__(self, /)\n",
      " |      True if self else False\n",
      " |  \n",
      " |  __contains__(self, key, /)\n",
      " |      Return key in self.\n",
      " |  \n",
      " |  __eq__(self, value, /)\n",
      " |      Return self==value.\n",
      " |  \n",
      " |  __ge__(self, value, /)\n",
      " |      Return self>=value.\n",
      " |  \n",
      " |  __getattribute__(self, name, /)\n",
      " |      Return getattr(self, name).\n",
      " |  \n",
      " |  __getitem__(self, key, /)\n",
      " |      Return self[key].\n",
      " |  \n",
      " |  __gt__(self, value, /)\n",
      " |      Return self>value.\n",
      " |  \n",
      " |  __hash__(self, /)\n",
      " |      Return hash(self).\n",
      " |  \n",
      " |  __iter__(self, /)\n",
      " |      Implement iter(self).\n",
      " |  \n",
      " |  __le__(self, value, /)\n",
      " |      Return self<=value.\n",
      " |  \n",
      " |  __len__(self, /)\n",
      " |      Return len(self).\n",
      " |  \n",
      " |  __lt__(self, value, /)\n",
      " |      Return self<value.\n",
      " |  \n",
      " |  __ne__(self, value, /)\n",
      " |      Return self!=value.\n",
      " |  \n",
      " |  __reduce__(...)\n",
      " |      Helper for pickle.\n",
      " |  \n",
      " |  __repr__(self, /)\n",
      " |      Return repr(self).\n",
      " |  \n",
      " |  __reversed__(...)\n",
      " |      Return a reverse iterator.\n",
      " |  \n",
      " |  count(...)\n",
      " |      rangeobject.count(value) -> integer -- return number of occurrences of value\n",
      " |  \n",
      " |  index(...)\n",
      " |      rangeobject.index(value) -> integer -- return index of value.\n",
      " |      Raise ValueError if the value is not present.\n",
      " |  \n",
      " |  ----------------------------------------------------------------------\n",
      " |  Static methods defined here:\n",
      " |  \n",
      " |  __new__(*args, **kwargs) from builtins.type\n",
      " |      Create and return a new object.  See help(type) for accurate signature.\n",
      " |  \n",
      " |  ----------------------------------------------------------------------\n",
      " |  Data descriptors defined here:\n",
      " |  \n",
      " |  start\n",
      " |  \n",
      " |  step\n",
      " |  \n",
      " |  stop\n",
      "\n"
     ]
    }
   ],
   "source": [
    "help(range)"
   ]
  },
  {
   "cell_type": "markdown",
   "metadata": {},
   "source": []
  },
  {
   "cell_type": "markdown",
   "metadata": {},
   "source": [
    "# I cicli\n",
    "\n",
    "I cicli ci permettono di eseguire una serie di istruzioni in maniera ciclica.\n",
    "<br>\n",
    "Un'esempio classico di ciclo è il **ciclo for**, utilizzato da molti linguaggi di programmazione, Python incluso.\n",
    "<br>\n",
    "Utilizziamolo per stampare una serie di numeri"
   ]
  },
  {
   "cell_type": "code",
   "execution_count": 14,
   "metadata": {},
   "outputs": [
    {
     "name": "stdout",
     "output_type": "stream",
     "text": [
      "0\n",
      "1\n",
      "2\n",
      "3\n",
      "4\n",
      "5\n",
      "6\n"
     ]
    }
   ],
   "source": [
    "n = input(\"Fino a che numero vuoi stampare ? \")\n",
    "n = int(n)\n",
    "\n",
    "for i in range(0,n):\n",
    "    print(i)"
   ]
  },
  {
   "cell_type": "markdown",
   "metadata": {},
   "source": [
    " Possiamo utilizzare un ciclo for per iterare sugli elementi di una lista, potresti pensare che il modo per farlo possa essere questo:\n",
    " "
   ]
  },
  {
   "cell_type": "code",
   "execution_count": 15,
   "metadata": {},
   "outputs": [
    {
     "name": "stdout",
     "output_type": "stream",
     "text": [
      "La mia lista della spesa:\n",
      "1) tofu\n",
      "2) latte di soia\n",
      "3) riso basmati\n",
      "4) yogurt greco\n"
     ]
    }
   ],
   "source": [
    "shopping_list = [\"tofu\", \"latte di soia\", \"riso basmati\",\"yogurt greco\"]\n",
    "\n",
    "print(\"La mia lista della spesa:\")\n",
    "\n",
    "for i in range(len(shopping_list)):\n",
    "    print(\"{:d}) {:s}\".format(i+1,shopping_list[i]))"
   ]
  },
  {
   "cell_type": "markdown",
   "metadata": {},
   "source": [
    "e funziona, ma in realtà esiste un metodo migliore per stampare la nostra lista della spesa, possiamo iterare direttamente sugli elementi della lista.\n"
   ]
  },
  {
   "cell_type": "code",
   "execution_count": 16,
   "metadata": {},
   "outputs": [
    {
     "name": "stdout",
     "output_type": "stream",
     "text": [
      "La mia lista della spesa:\n",
      "-tofu\n",
      "-latte di soia\n",
      "-riso basmati\n",
      "-yogurt greco\n"
     ]
    }
   ],
   "source": [
    "shopping_list = [\"tofu\", \"latte di soia\", \"riso basmati\",\"yogurt greco\"]\n",
    "\n",
    "print(\"La mia lista della spesa:\")\n",
    "\n",
    "for entry in shopping_list:\n",
    "    print(\"-\"+entry)"
   ]
  },
  {
   "cell_type": "markdown",
   "metadata": {},
   "source": [
    "**NOTA BENE** entry è sempre una variabile il cui nome viene definito da noi, che conterrà ad ogni iterazione il successivo elemento della lista.\n",
    "<br><br>\n",
    "Come vedi adesso abbiamo stampato gli elementi della nostra lista della spesa in maniera decisamente più intuitiva, ma non abbiamo più l'indice i. Qualora ci servisse sia l'elemento che l'indice, possiamo utilizzare la funzione *enumerate*, che ci permette di iterare su entrambi."
   ]
  },
  {
   "cell_type": "code",
   "execution_count": 17,
   "metadata": {},
   "outputs": [
    {
     "name": "stdout",
     "output_type": "stream",
     "text": [
      "La mia lista della spesa:\n",
      "1) tofu\n",
      "2) latte di soia\n",
      "3) riso basmati\n",
      "4) yogurt greco\n"
     ]
    }
   ],
   "source": [
    "shopping_list = [\"tofu\", \"latte di soia\", \"riso basmati\",\"yogurt greco\"]\n",
    "\n",
    "print(\"La mia lista della spesa:\")\n",
    "\n",
    "for i,entry in enumerate(shopping_list):\n",
    "    print(\"{:d}) {:s}\".format(i+1, entry))"
   ]
  },
  {
   "cell_type": "code",
   "execution_count": null,
   "metadata": {},
   "outputs": [],
   "source": []
  }
 ],
 "metadata": {
  "kernelspec": {
   "display_name": "work",
   "language": "python",
   "name": "python3"
  },
  "language_info": {
   "codemirror_mode": {
    "name": "ipython",
    "version": 3
   },
   "file_extension": ".py",
   "mimetype": "text/x-python",
   "name": "python",
   "nbconvert_exporter": "python",
   "pygments_lexer": "ipython3",
   "version": "3.10.13"
  }
 },
 "nbformat": 4,
 "nbformat_minor": 2
}
