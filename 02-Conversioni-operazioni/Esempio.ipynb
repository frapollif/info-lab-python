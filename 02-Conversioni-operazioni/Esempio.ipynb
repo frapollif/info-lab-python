{
 "cells": [
  {
   "cell_type": "markdown",
   "metadata": {},
   "source": [
    "# Esempio di trattamento delle stringhe\n",
    "Un esempio di trattamento delle informazioni sulle stringhe potrebbe essere la creazione di un messaggio di benvenuto personalizzato o l'estrazione di nome e cognome da un indirizzo email.\n",
    "\n",
    "\n",
    "Se l'indirizzo email è nel formato `nome.cognome@mail.com` possiamo estrarre il nome e il cognome utilizzando il metodo `split()` (che restituisce una lista di stringhe \"spezzata\" dove viene incontrato il carattere `@`) \n",
    "\n",
    "Ad esempio:\n",
    "```python   \n",
    "email = \"nome.cognome@mail.com\"\n",
    "mail = email.split(\"@\")\n",
    "\n",
    "\n"
   ]
  },
  {
   "cell_type": "code",
   "execution_count": 7,
   "metadata": {},
   "outputs": [
    {
     "name": "stdout",
     "output_type": "stream",
     "text": [
      "['nome.cognome', 'mail.com']\n"
     ]
    }
   ],
   "source": [
    "email = \"nome.cognome@mail.com\"\n",
    "mail = email.split(\"@\")\n",
    "print(mail)"
   ]
  },
  {
   "cell_type": "markdown",
   "metadata": {},
   "source": [
    "Per accedere ai vari elementi della lista possiamo usare un indice come per le stringhe. \n",
    "```python\n",
    "mail[0] # restituisce \"nome.cognome\"\n",
    "mail[1] # restituisce \"mail.com\"\n",
    "``` \n",
    "\n"
   ]
  },
  {
   "cell_type": "code",
   "execution_count": 8,
   "metadata": {},
   "outputs": [
    {
     "name": "stdout",
     "output_type": "stream",
     "text": [
      "nome.cognome\n"
     ]
    }
   ],
   "source": [
    "email = \"nome.cognome@mail.com\"\n",
    "mail = email.split(\"@\")\n",
    "print(mail[0])"
   ]
  },
  {
   "cell_type": "markdown",
   "metadata": {},
   "source": [
    "A questo punto possiamo estrarre nome e cognome (separati dal carattere `.`) dalla stringa `mail[0]` utilizzando il metodo `split()` e memorizzarli in due variabili separate.\n"
   ]
  },
  {
   "cell_type": "code",
   "execution_count": 13,
   "metadata": {},
   "outputs": [
    {
     "name": "stdout",
     "output_type": "stream",
     "text": [
      "La tua mail è nome.cognome e il provider è provider.com\n",
      "Nome: nome\n",
      "Cognome: cognome\n"
     ]
    }
   ],
   "source": [
    "input_email = \"nome.cognome@provider.com\"\n",
    "mail = input_email.split(\"@\")[0]\n",
    "provider= input_email.split(\"@\")[1]\n",
    "print(f\"La tua mail è {mail} e il provider è {provider}\")\n",
    "\n",
    "nome= mail.split(\".\")[0]\n",
    "cognome= mail.split(\".\")[1]\n",
    "print(f\"Nome: {nome}\")\n",
    "print(f\"Cognome: {cognome}\")"
   ]
  },
  {
   "cell_type": "markdown",
   "metadata": {},
   "source": [
    "Per rendere interattivo il tutto possiamo utilizzare la funzione `input()` per  ottenere l'indirizzo email dell'utente.\n",
    "\n",
    "Rimuovi i commenti dal codice della prossima cella e prova a eseguirlo.\n",
    "\n",
    "Shortcut Vscode:\n",
    "Seleziona la (o le linee) da commentare (o dalle quali rimuovere il commento) e premi  `Ctrl + °`"
   ]
  },
  {
   "cell_type": "code",
   "execution_count": 15,
   "metadata": {},
   "outputs": [],
   "source": [
    "# input_email = input(\"Inserisci il tuo indirizzo email: (nome.cognome@mail.com)\")\n",
    "# mail = input_email.split(\"@\")[0]\n",
    "# provider= input_email.split(\"@\")[1]\n",
    "# print(f\"La tua mail è {mail} e il provider è {provider}\")\n",
    "\n",
    "# nome= mail.split(\".\")[0]\n",
    "# cognome= mail.split(\".\")[1]\n",
    "# print(f\"Nome: {nome}\")\n",
    "# print(f\"Cognome: {cognome}\")"
   ]
  }
 ],
 "metadata": {
  "kernelspec": {
   "display_name": "work",
   "language": "python",
   "name": "python3"
  },
  "language_info": {
   "codemirror_mode": {
    "name": "ipython",
    "version": 3
   },
   "file_extension": ".py",
   "mimetype": "text/x-python",
   "name": "python",
   "nbconvert_exporter": "python",
   "pygments_lexer": "ipython3",
   "version": "3.10.13"
  }
 },
 "nbformat": 4,
 "nbformat_minor": 2
}
