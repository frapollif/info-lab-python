{
 "cells": [
  {
   "cell_type": "markdown",
   "metadata": {},
   "source": [
    "# Paga lorda\n",
    "Scrivere un programma che calcoli e visualizzi la paga lorda di un dipendente a ore. I\n",
    "passaggi da seguire sono i seguenti:\n",
    "1. Ottenere il numero di ore lavorative;\n",
    "2. ottenere retribuzione oraria;\n",
    "3. moltiplicare il numero di ore lavorate per la retribuzione oraria;\n",
    "4. visualizzare il risultato del calcolo eseguito al passaggio 3."
   ]
  },
  {
   "cell_type": "code",
   "execution_count": null,
   "metadata": {},
   "outputs": [],
   "source": []
  },
  {
   "cell_type": "markdown",
   "metadata": {},
   "source": [
    "# Calcolo della superficie\n",
    "Un acro di terra corrisponde a circa 4046 metri quadrati. Scrivere un programma che chieda\n",
    "all’utente di inserire la superficie di un terreno in metri quadrati e calcoli quindi il numero\n",
    "di acri di quel terreno."
   ]
  },
  {
   "cell_type": "code",
   "execution_count": null,
   "metadata": {},
   "outputs": [],
   "source": []
  },
  {
   "cell_type": "markdown",
   "metadata": {},
   "source": [
    "# Previsioni delle vendite \n",
    "Un’azienda ha determinato che il suo profitto annuale è tipicamente il 23% del totale delle\n",
    "vendite. \n",
    "Scrivere un programma che chieda all’utente di inserire il totale delle vendite previste e visualizzi quindi il profitto che si terrà da questa somma.\n",
    "\n",
    "*Suggerimento: non esiste il tipo di dato 23%. È necessario utilizzare gli operatori di\n",
    "moltiplicazione e divisione per ottenere la percentuale sul totale delle vendite.*\n"
   ]
  },
  {
   "cell_type": "code",
   "execution_count": null,
   "metadata": {},
   "outputs": [],
   "source": []
  },
  {
   "cell_type": "markdown",
   "metadata": {},
   "source": [
    "# IVA \n",
    "Scrivere un programma che chieda all’utente di inserire il costo totale di un acquisto al netto\n",
    "di Iva. \n",
    "\n",
    "Si supponga che l’IVA sia pari all’8%. \n",
    "\n",
    "Il programma deve visualizzare il costo totale\n",
    "dell’acquisto al netto di IVA, l’IVA e il costo totale dell’acquisto (quindi IVA compresa)."
   ]
  },
  {
   "cell_type": "code",
   "execution_count": null,
   "metadata": {},
   "outputs": [],
   "source": []
  }
 ],
 "metadata": {
  "kernelspec": {
   "display_name": "work",
   "language": "python",
   "name": "python3"
  },
  "language_info": {
   "codemirror_mode": {
    "name": "ipython",
    "version": 3
   },
   "file_extension": ".py",
   "mimetype": "text/x-python",
   "name": "python",
   "nbconvert_exporter": "python",
   "pygments_lexer": "ipython3",
   "version": "3.10.13"
  }
 },
 "nbformat": 4,
 "nbformat_minor": 2
}
