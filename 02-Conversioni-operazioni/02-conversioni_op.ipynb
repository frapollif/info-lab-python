{
 "cells": [
  {
   "cell_type": "markdown",
   "metadata": {},
   "source": [
    "# Dichiarare una variabile specificando il tipo\n",
    "In Python, le variabili non devono essere dichiarate con un tipo specifico. Il tipo di una variabile è determinato al momento dell'assegnazione. Questo è chiamato tipizzazione dinamica.\n",
    "Si può comunque specificare il tipo di una variabile, utilizzando la sintassi `variabile: tipo = valore`. Questo è chiamato tipizzazione statica.\n",
    "\n"
   ]
  },
  {
   "cell_type": "code",
   "execution_count": null,
   "metadata": {},
   "outputs": [],
   "source": [
    "numero:int=5\n",
    "\n",
    "print(numero)\n",
    "print(type(numero))\n",
    "\n",
    "stringa:str=\"ciao\"\n",
    "print(stringa)\n",
    "print(type(stringa))\n"
   ]
  },
  {
   "cell_type": "markdown",
   "metadata": {},
   "source": [
    "# Conversioni (casting)\n",
    "Con python possiamo convertire un tipo di dato in un altro con un'operazione chiamata casting"
   ]
  },
  {
   "cell_type": "markdown",
   "metadata": {},
   "source": [
    "## Casting da intero a stringa\n"
   ]
  },
  {
   "cell_type": "code",
   "execution_count": null,
   "metadata": {},
   "outputs": [],
   "source": [
    "# Creiamo una variabile che contiene un'intero\n",
    "var:int = 5\n",
    "\n",
    "# Convertiamo la variabile da intero a stringa\n",
    "var_str:str = str(var)\n",
    "\n",
    "print(var)\n",
    "print(type(var))\n",
    "print(var_str)\n",
    "print(type(var_str))\n",
    "\n"
   ]
  },
  {
   "cell_type": "markdown",
   "metadata": {},
   "source": [
    "## Da stringa a intero o float"
   ]
  },
  {
   "cell_type": "code",
   "execution_count": null,
   "metadata": {},
   "outputs": [],
   "source": [
    "stringa:str=\"3\"\n",
    "print(stringa)\n",
    "print(type(stringa))\n",
    "\n",
    "numero:int=int(stringa)\n",
    "print(numero)\n",
    "print(type(numero))\n",
    "numero+6\n",
    "\n",
    "numero_float:float=float(stringa)\n",
    "print(numero_float)\n",
    "print(type(numero_float))\n",
    "print(numero_float/5)"
   ]
  },
  {
   "cell_type": "markdown",
   "metadata": {},
   "source": [
    "# Operazioni \n",
    "Con Python possiamo eseguire le varie **operazioni matematiche** utilizzando l'operatore corretto"
   ]
  },
  {
   "cell_type": "code",
   "execution_count": null,
   "metadata": {},
   "outputs": [],
   "source": [
    "# somma\n",
    "print(5+3)\n",
    "\n",
    "# sottrazione\n",
    "print(4-1)\n",
    "\n",
    "# prodotto\n",
    "print(3*2)\n",
    "\n",
    "# divisione\n",
    "print(4/2)\n",
    "\n",
    "# resto\n",
    "print(5%2)\n",
    "\n"
   ]
  },
  {
   "cell_type": "markdown",
   "metadata": {},
   "source": [
    "\n",
    "Gli operatori aritmetici assumono una altro significato se utilizzati con stringhe.\n",
    "Ad esempio l'operatore `+` viene utilizzato per concatenare due stringhe.\n"
   ]
  },
  {
   "cell_type": "code",
   "execution_count": null,
   "metadata": {},
   "outputs": [],
   "source": [
    "# unire due stringhe\n",
    "stringa1:str=\"5\"\n",
    "stringa2:str=\"2\"\n",
    "risultato:str=stringa1+stringa2\n",
    "print(risultato)\n",
    "print(type(risultato))\n"
   ]
  },
  {
   "cell_type": "markdown",
   "metadata": {},
   "source": [
    "Cosa succede se moltiplichiamo una stringa per un numero intero?\n"
   ]
  },
  {
   "cell_type": "code",
   "execution_count": null,
   "metadata": {},
   "outputs": [],
   "source": [
    "\"3\"*5"
   ]
  },
  {
   "cell_type": "markdown",
   "metadata": {},
   "source": [
    "Attenzione però, non tutte le operazioni sono possibili su tutti i tipi di dati. Ad esempio non è possibile sommare una stringa ad un intero."
   ]
  },
  {
   "cell_type": "code",
   "execution_count": null,
   "metadata": {},
   "outputs": [],
   "source": [
    "2 + \"3\""
   ]
  },
  {
   "cell_type": "markdown",
   "metadata": {},
   "source": [
    "Come vedi il tentativo di sommare una parola e un numero ha causato un'errore, che in Python vengono chiamate **eccezioni**.<br> \n",
    "Ogni volta che si verifica un'eccezione Python ci mostra:\n",
    " * la riga esatta in cui si è verificato (La freccia verde)\n",
    " * il tipo di eccezone (TypeError)\n",
    " * una breve descrizione (*can only concatenate str (not \"int\") to str*)\n",
    " \n",
    "Un altro esempio di eccezione è quella che avviene se proviamo a convertire una parola in numero."
   ]
  },
  {
   "cell_type": "code",
   "execution_count": null,
   "metadata": {},
   "outputs": [],
   "source": [
    "# Creiamo una variabile che contiene un intero\n",
    "var = \"boh\"\n",
    "\n",
    "# Convertiamo la variabile da intero a float\n",
    "var = float(var)\n",
    "\n",
    "print(var)\n",
    "print(type(var))"
   ]
  },
  {
   "cell_type": "markdown",
   "metadata": {},
   "source": [
    "# Operazioni sulle stringhe\n",
    "Una stringa è una sequenza di caratteri. In Python possiamo eseguire diverse operazioni su una stringa.\n",
    "Possiamo accedere ai singoli caratteri di una stringa utilizzando l'indice tra parentesi quadre.\n",
    "Attenzione però, in Python gli indici partono da 0.\n",
    "\n",
    "Per determinare la lunghezza di una stringa possiamo utilizzare la funzione `len()`\n",
    "\n",
    "Prova a modificare il valore dell'indice per vedere cosa succede.\n",
    "Si possono usare indici negativi? Cosa succede se provi ad accedere ad un indice maggiore della lunghezza della stringa?"
   ]
  },
  {
   "cell_type": "code",
   "execution_count": null,
   "metadata": {},
   "outputs": [],
   "source": [
    "stringa:str=\"ciao come stai?\"\n",
    "lunghezza:int=len(stringa)\n",
    "\n",
    "print(lunghezza)\n",
    "\n",
    "indice=0  #Modificare questo valore per vedere il carattere corrispondente\n",
    "stringa[indice]"
   ]
  },
  {
   "cell_type": "markdown",
   "metadata": {},
   "source": [
    "È possibile anche ottenere una parte di una stringa utilizzando la sintassi `stringa[start:stop]`. Questo è chiamato slicing."
   ]
  },
  {
   "cell_type": "code",
   "execution_count": null,
   "metadata": {},
   "outputs": [],
   "source": [
    "stringa= \"ciao mondo\"\n",
    "stringa[0:4]"
   ]
  },
  {
   "cell_type": "markdown",
   "metadata": {},
   "source": [
    "Ci sono pure delle funzioni che possiamo utilizzare per manipolare le stringhe. Ad esempio la funzione `upper()` che trasforma tutti i caratteri in maiuscolo. Oppure la funzione `lower()` che trasforma tutti i caratteri in minuscolo.\n"
   ]
  },
  {
   "cell_type": "code",
   "execution_count": null,
   "metadata": {},
   "outputs": [],
   "source": [
    "stringa:str=\"ciao come stai?\"\n",
    "stringa.upper( )\n",
    "\n"
   ]
  },
  {
   "cell_type": "markdown",
   "metadata": {},
   "source": [
    "# Costruire stringhe con f-string\n",
    "A volte può essere utile costruire stringhe a partire da variabili, e Python offre un modo molto semplice per farlo: le f-string.\n",
    "\n",
    "Le f-string sono stringhe precedute dal carattere `f` (da qui il nome) e contengono delle espressioni racchiuse tra parentesi graffe `{}`. Queste espressioni vengono valutate e il loro risultato viene inserito nella stringa.\n",
    "\n",
    "Ecco un esempio:\n",
    "```python\n",
    "nome = \"Mario\"\n",
    "cognome = \"Rossi\"\n",
    "print(f\"Ciao, mi chiamo {nome} {cognome}\")"
   ]
  },
  {
   "cell_type": "code",
   "execution_count": null,
   "metadata": {},
   "outputs": [],
   "source": [
    "nome = \"Mario\"\n",
    "cognome = \"Rossi\"\n",
    "print(f\"Ciao, mi chiamo {nome} {cognome}\")"
   ]
  },
  {
   "cell_type": "markdown",
   "metadata": {},
   "source": [
    "# Esempio \n",
    "Un esempio di trattamento delle informazioni sulle stringhe potrebbe essere la creazione di un messaggio di benvenuto personalizzato o l'estrazione di nome e cognome da un indirizzo email.\n",
    "Se l'indirizzo email è nel formato `nome.cognome@mail.com` possiamo estrarre il nome e il cognome utilizzando il metodo `split()` e poi costruire un messaggio di benvenuto utilizzando le f-string.\n",
    "Ad esempio:\n",
    "```python   \n",
    "email = \"nome.cognome@mail.com\"\n",
    "mail = email.split(\"@\")[0]\n",
    "provider= email.split(\"@\")[1]\n",
    "```\n",
    "In questo caso `mail` conterrà `nome.cognome` e `provider` conterrà `mail.com`.\n",
    "\n",
    "Prova a modificare il  seguente  programma che chiede all'utente di inserire il proprio indirizzo email e poi stampa un messaggio di benvenuto personalizzato estraendo il nome e il cognome dall'indirizzo email.\n",
    "\n",
    "\n",
    "\n"
   ]
  },
  {
   "cell_type": "code",
   "execution_count": null,
   "metadata": {},
   "outputs": [],
   "source": [
    "input_email = input(\"Inserisci il tuo indirizzo email: (nome.cognome@mail.com)\")\n",
    "mail = input_email.split(\"@\")[0]\n",
    "provider= input_email.split(\"@\")[1]\n",
    "# nome=\n",
    "# cognome=\n",
    "\n",
    "print(f\"La tua mail è {mail} e il provider è {provider}\")\n",
    "#print(f\"Nome: {nome} Cognome: {cognome} Provider: {provider}\")"
   ]
  },
  {
   "cell_type": "markdown",
   "metadata": {},
   "source": []
  }
 ],
 "metadata": {
  "kernelspec": {
   "display_name": "python39",
   "language": "python",
   "name": "python3"
  },
  "language_info": {
   "codemirror_mode": {
    "name": "ipython",
    "version": 3
   },
   "file_extension": ".py",
   "mimetype": "text/x-python",
   "name": "python",
   "nbconvert_exporter": "python",
   "pygments_lexer": "ipython3",
   "version": "3.9.13"
  }
 },
 "nbformat": 4,
 "nbformat_minor": 2
}
