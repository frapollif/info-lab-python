{
 "cells": [
  {
   "cell_type": "markdown",
   "metadata": {},
   "source": [
    "# Strutture decisionali e logica booleana\n",
    "\n",
    "Una struttura di controllo è uno schema logico che controlla l’ordine in cui\n",
    "vengono eseguite delle istruzioni. Nei laboratori precedenti è stato utilizzato\n",
    "solamente il tipo di struttura di controllo più semplice: la struttura sequenziale, ovvero un insieme di istruzioni che vengono eseguite nell’ordine in cui\n",
    "compaiono. Per esempio, il codice qui di seguito è una struttura sequenziale,\n",
    "perché le istruzioni vengono eseguite dall'alto verso il basso"
   ]
  },
  {
   "cell_type": "code",
   "execution_count": 1,
   "metadata": {},
   "outputs": [
    {
     "name": "stdout",
     "output_type": "stream",
     "text": [
      "Nome: a Età: 3\n"
     ]
    }
   ],
   "source": [
    "nome = input (\"Come ti chiami ? \")\n",
    "eta = int ( input (\"Quanti anni hai ? \"))\n",
    "print (f\"Nome: {nome} Età: {eta}\")\n"
   ]
  },
  {
   "cell_type": "markdown",
   "metadata": {},
   "source": [
    "Sebbene la struttura sequenziale sia utilizzata moltissimo in programmazione, non è in grado di gestire ogni tipo di situazione, perché semplicemente\n",
    "è impossibile risolvere determinati tipi di problemi mediante una serie di passaggi ordinati uno dopo l’altro. \n",
    "\n",
    "Si consideri per esempio un programma di\n",
    "calcolo delle paghe che determina se un dipendente ha fatto degli straordinari. \n",
    "\n",
    "\n",
    "Se il dipendente ha lavorato più di 40 ore in una settimana significa che\n",
    "deve ricevere un pagamento extra per ogni ora lavorata oltre le 40 previste,\n",
    "altrimenti il calcolo degli straordinari può essere saltato. \n",
    "\n",
    "\n",
    "I programmi di questo tipo richiedono una struttura di controllo diversa, che possa eseguire un\n",
    "insieme di istruzioni solo se si verificano determinate circostanze. A questo\n",
    "scopo è necessario utilizzare una struttura decisionale.\n",
    "\n",
    "\n",
    "In una struttura decisionale semplice, si esegue una determinata azione\n",
    "soltanto se si viene a verificare una condizione specifica. \n",
    "Se la condizione\n",
    "non si verifica, l’azione non viene eseguita. \n",
    "\n",
    "\n"
   ]
  },
  {
   "cell_type": "markdown",
   "metadata": {},
   "source": [
    "Il diagramma di flusso illustrato\n",
    "nella Figura 1 mostra il possibile diagramma della struttura decisionale di\n",
    "un’attività comune.\n",
    "Nel diagramma di flusso, il blocco romboidale indica una condizione da\n",
    "testare; in questo caso, si deve determinare se la condizione **Fa freddo fuori**\n",
    "è vera o falsa. \n",
    "\n",
    "Se è vera, viene eseguita l’azione Metti il cappotto; \n",
    "\n",
    "se\n",
    "invece è falsa, l’azione viene saltata.\n",
    "\n",
    "\n",
    "<img src=\"./img/diagramma_base.png\" alt=\"Diagramma di flusso\" width=\"400\" height=\"auto\">\n"
   ]
  },
  {
   "cell_type": "markdown",
   "metadata": {},
   "source": [
    "\n",
    "In Python, per scrivere una struttura decisionale ad alternativa singola si\n",
    "utilizza l’istruzione `if`\n",
    "\n",
    "```python\t\n",
    "if condizione:\n",
    "    istruzione\n",
    "    istruzione\n",
    "    ...\n",
    "    istruzione\n",
    "``` \n",
    "\n",
    "Da notare l'uso dei due punti `:` e l'indentazione delle istruzioni da eseguire.\n",
    "\n",
    "Dopo la condizione si trovano due punti; dalla riga successiva ha inizio\n",
    "un blocco di istruzioni. Un blocco è semplicemente un insieme di istruzioni che appartengono tutte a uno stesso gruppo. "
   ]
  },
  {
   "cell_type": "markdown",
   "metadata": {},
   "source": [
    "## Operatori di confronto\n",
    "\n",
    "Le condizioni che si possono testare in una struttura decisionale sono dette\n",
    "condizioni booleane, perché possono essere solo vere o false.\n",
    "\n",
    "Le condizioni booleane sono create mediante l’uso di operatori di confronto.\n",
    "Gli operatori di confronto confrontano due valori e restituiscono un valore\n",
    "booleano.\n",
    "\n",
    "Ecco una lista degli operatori di confronto più comuni:\n",
    "\n",
    "- `==` : uguaglianza\n",
    "- `!=` : disuguaglianza\n",
    "- `>` : maggiore di\n",
    "- `<` : minore di\n",
    "- `>=` : maggiore o uguale a\n",
    "- `<=` : minore o uguale a\n",
    "\n",
    "Ecco un esempio di struttura decisionale che utilizza l’operatore di confronto\n",
    "`==`:\n",
    "\n",
    "```python\n",
    "if x == 5:\n",
    "    print('x è uguale a 5')\n",
    "```\n",
    "\n",
    "\n",
    "\n"
   ]
  },
  {
   "cell_type": "markdown",
   "metadata": {},
   "source": [
    "La Figuravmostra un diagramma di flusso per la seguente situazione:\n",
    "\n",
    "Se l’espressione vendite > 50000 è vera, assegna 500.0 alla\n",
    "variabile bonus e visualizza Bravo, hai venduto parecchio! Riceverai\n",
    "un bonus di 500.0; se invece è falsa, l’istruzione di assegnazione viene\n",
    "saltata.\n",
    "\n",
    "<img src=\"./img/diagramma_vendite.png\" alt=\"Diagramma vendite\" width=\"500\" height=\"auto\">\n"
   ]
  },
  {
   "cell_type": "code",
   "execution_count": 2,
   "metadata": {},
   "outputs": [],
   "source": [
    "# vendite= int (input (\"Quante vendite hai fatto ? \"))\n",
    "#if vendite \n",
    "    # bonus=\n",
    "    # print(f\"Bravo , hai venduto parecchio ! Riceverai un bonus di {bonus}\")"
   ]
  },
  {
   "cell_type": "markdown",
   "metadata": {},
   "source": [
    "## Esercizio\n",
    "Andrea insegna in un corso di scienze e i suoi studenti devono sostenere tre\n",
    "verifiche. \n",
    "\n",
    "Andrea vorrebbe scrivere un programma con il quale i suoi studenti\n",
    "possano calcolare la media dei voti presi nelle verifiche. \n",
    "\n",
    "Inoltre, desidera che\n",
    "il programma stampi a video se con quei voti lo studente è promosso o meno\n",
    "(media >= 4). \n"
   ]
  },
  {
   "cell_type": "markdown",
   "metadata": {},
   "source": [
    "## If-Else\n",
    "\n",
    "Nelle sezioni precedenti è stata presentata una struttura decisionale ad alternativa singola (l’istruzione if), che presenta un solo percorso di esecuzione\n",
    "alternativo. \n",
    "\n",
    "Di seguito verrà presentata una struttura decisionale ad alternativa doppia, che presenta due possibili percorsi di esecuzione, uno seguito nel\n",
    "caso che una condizione sia vera e l’altro che viene seguito se invece la condizione è falsa\n",
    "\n",
    "\n",
    "<img src=\"./img/diagramma-if-else.png\" alt=\"Diagramma if-else\" width=\"500\" height=\"auto\">\n",
    "\n",
    "La struttura decisionale di questo diagramma di flusso verifica la condizione `temperature < 0`. \n",
    "\n",
    "Se la condizione è vera viene eseguita l’istruzione\n",
    "`print(’Un po’ freddino, non trovi?’)`, se invece la condizione è falsa,\n",
    "viene eseguita l’istruzione `print(’Ma che bella giornata!’)`.\n",
    "\n",
    "Per scrivere un programma che presenti una struttura decisionale ad alternativa doppia si utilizza l’istruzione `if-else`:\n",
    "\n",
    "```python\n",
    "if condizione:\n",
    "    istruzione\n",
    "    istruzione\n",
    "    ...\n",
    "    istruzione\n",
    "else:\n",
    "    istruzione\n",
    "    istruzione\n",
    "    ...\n",
    "    istruzione\n",
    "```"
   ]
  },
  {
   "cell_type": "code",
   "execution_count": 3,
   "metadata": {},
   "outputs": [
    {
     "name": "stdout",
     "output_type": "stream",
     "text": [
      "Ma che bella giornata , non trovi ?\n"
     ]
    }
   ],
   "source": [
    "# Questa prima istruzione non è presente nel flusso del\n",
    "# diagramma di flusso\n",
    "temperature = int ( input (\"Scrivi la temperatura registrata : \") )\n",
    "\n",
    "# Da qui in poi il flusso è identico a quello del diagramma\n",
    "if temperature < 0:\n",
    "    #Se è vero che la temperatura è minore di zero\n",
    "    print (\"Un po freddino , non trovi ?\")\n",
    "else :\n",
    "    # Se è vero che la temperatura è maggiore o uguale a zero\n",
    "    print (\"Ma che bella giornata , non trovi ?\")"
   ]
  },
  {
   "cell_type": "code",
   "execution_count": 4,
   "metadata": {},
   "outputs": [
    {
     "name": "stdout",
     "output_type": "stream",
     "text": [
      "Il tuo stipendio totale è di 360\n"
     ]
    }
   ],
   "source": [
    "# Definisco delle costanti che rendono più leggibile il codice\n",
    "# Le costanti sono variabili che non cambiano mai\n",
    "# Le costanti vanno scritte in maiuscolo\n",
    "PAGA_ORARIA = 30\n",
    "PAGA_STRAORDINARIA = PAGA_ORARIA * 1.5\n",
    "\n",
    "# Chiedo all ’utente quanti ore ha lavorato questa settimana\n",
    "num_ore = int ( input (\" Quante ore hai lavorato questa settimana ? \"))\n",
    "\n",
    "# Calcolo il suo stipendio\n",
    "if num_ore > 40:\n",
    "    stipendio_ordinario = 40 * PAGA_ORARIA\n",
    "    stipendio_straordinario = ( num_ore - 40) * PAGA_STRAORDINARIA\n",
    "    stipendio_totale = stipendio_ordinario + stipendio_straordinario\n",
    "else :\n",
    "    stipendio_totale = num_ore * PAGA_ORARIA\n",
    "\n",
    "# Stampo il risultato in ogni caso\n",
    "print (f\"Il tuo stipendio totale è di {stipendio_totale}\")"
   ]
  },
  {
   "cell_type": "code",
   "execution_count": null,
   "metadata": {},
   "outputs": [],
   "source": []
  },
  {
   "cell_type": "code",
   "execution_count": null,
   "metadata": {},
   "outputs": [],
   "source": []
  }
 ],
 "metadata": {
  "kernelspec": {
   "display_name": "python39",
   "language": "python",
   "name": "python3"
  },
  "language_info": {
   "codemirror_mode": {
    "name": "ipython",
    "version": 3
   },
   "file_extension": ".py",
   "mimetype": "text/x-python",
   "name": "python",
   "nbconvert_exporter": "python",
   "pygments_lexer": "ipython3",
   "version": "3.9.13"
  }
 },
 "nbformat": 4,
 "nbformat_minor": 2
}
